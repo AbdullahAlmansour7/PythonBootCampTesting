{
  "nbformat": 4,
  "nbformat_minor": 0,
  "metadata": {
    "colab": {
      "name": "pythonday2.ipynb",
      "provenance": []
    },
    "kernelspec": {
      "display_name": "Python 3",
      "name": "python3"
    }
  },
  "cells": [
    {
      "cell_type": "code",
      "metadata": {
        "id": "Jn9eMnGUsoym"
      },
      "source": [
        "num1 = float(input(\"Type number 1:\"))\r\n",
        "num2 = float(input(\"Type number 2:\"))\r\n",
        "sum = num1+num2\r\n",
        "print(\"=\",sum)"
      ],
      "execution_count": null,
      "outputs": []
    },
    {
      "cell_type": "code",
      "metadata": {
        "id": "YrSyS6gP8XIn"
      },
      "source": [
        "import random\r\n",
        "pcnum = random.randrange(0, 10)\r\n",
        "trials = int(input(\"Type number of trials:\"))\r\n",
        "if trials == 0:\r\n",
        "  trials = random.randrange(1,10)\r\n",
        "print(\"Your trials are:\", trials)"
      ],
      "execution_count": null,
      "outputs": []
    },
    {
      "cell_type": "code",
      "metadata": {
        "id": "mSG3BdM53SZ2"
      },
      "source": [
        "e = 0\r\n",
        "if e == 0:\r\n",
        "  python = \"PYTHON\"\r\n",
        "  print(python*100)"
      ],
      "execution_count": null,
      "outputs": []
    },
    {
      "cell_type": "code",
      "metadata": {
        "id": "0tL453_H6agl"
      },
      "source": [
        "import turtle\r\n",
        "t = turtle\r\n",
        "t.shape('turtle')\r\n",
        "x =0\r\n",
        "for x in range (60):\r\n",
        "    for i in range(4):\r\n",
        "        t.forward(100)\r\n",
        "        t.right(90)\r\n",
        "    t.right(5)\r\n",
        "    "
      ],
      "execution_count": null,
      "outputs": []
    }
  ]
}